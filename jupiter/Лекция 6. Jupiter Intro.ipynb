{
 "cells": [
  {
   "cell_type": "markdown",
   "id": "547cacff",
   "metadata": {
    "id": "547cacff"
   },
   "source": [
    "## Первые шаги"
   ]
  },
  {
   "cell_type": "code",
   "execution_count": null,
   "id": "34c4e1da",
   "metadata": {
    "id": "34c4e1da"
   },
   "outputs": [],
   "source": [
    "print('ку-ку')"
   ]
  },
  {
   "cell_type": "code",
   "execution_count": null,
   "id": "d1b3b7df",
   "metadata": {
    "id": "d1b3b7df"
   },
   "outputs": [],
   "source": [
    "h = 0\n",
    "while h< 10:\n",
    "    h +=1"
   ]
  },
  {
   "cell_type": "code",
   "execution_count": null,
   "id": "a7742ce9",
   "metadata": {
    "id": "a7742ce9"
   },
   "outputs": [],
   "source": [
    "x = 2"
   ]
  },
  {
   "cell_type": "code",
   "execution_count": null,
   "id": "8acb3ab5",
   "metadata": {
    "id": "8acb3ab5"
   },
   "outputs": [],
   "source": [
    "x"
   ]
  },
  {
   "cell_type": "code",
   "execution_count": null,
   "id": "1ad60c64",
   "metadata": {
    "id": "1ad60c64"
   },
   "outputs": [],
   "source": [
    "x + 12"
   ]
  },
  {
   "cell_type": "code",
   "execution_count": null,
   "id": "aa43efae",
   "metadata": {
    "id": "aa43efae"
   },
   "outputs": [],
   "source": [
    "x = 11\n",
    "y = 22\n",
    "x + y"
   ]
  },
  {
   "cell_type": "code",
   "execution_count": null,
   "id": "e661568a",
   "metadata": {
    "id": "e661568a"
   },
   "outputs": [],
   "source": [
    "def fib(n):\n",
    "    if n <= 1:\n",
    "        return 1 \n",
    "    else:\n",
    "        return fib(n - 1) + fib(n - 2)"
   ]
  },
  {
   "cell_type": "code",
   "execution_count": null,
   "id": "327d3770",
   "metadata": {
    "id": "327d3770"
   },
   "outputs": [],
   "source": [
    "fib(12)"
   ]
  },
  {
   "cell_type": "code",
   "execution_count": null,
   "id": "365bc852",
   "metadata": {
    "id": "365bc852"
   },
   "outputs": [],
   "source": [
    "li = []\n",
    "for i in range(1,10):\n",
    "    li.append(i)\n",
    "li"
   ]
  },
  {
   "cell_type": "code",
   "execution_count": null,
   "id": "9fd7191b",
   "metadata": {
    "id": "9fd7191b"
   },
   "outputs": [],
   "source": [
    "fibs = [(n, fib(n)) for n in range(1,10)]\n",
    "fibs"
   ]
  },
  {
   "cell_type": "markdown",
   "id": "3488680f",
   "metadata": {
    "id": "3488680f"
   },
   "source": [
    "## Квадратные уравнения"
   ]
  },
  {
   "cell_type": "code",
   "execution_count": null,
   "id": "13d76a4d",
   "metadata": {
    "id": "13d76a4d"
   },
   "outputs": [],
   "source": [
    "from math import sqrt\n",
    "\n",
    "def solve(a, b, c):\n",
    "    d = b**2 - 4*a*c\n",
    "    if d >= 0:\n",
    "        x1 = (-b + sqrt(d)) / (2 * a)\n",
    "        x2 = (-b - sqrt(d)) / (2 * a)\n",
    "        return (x1, x2)\n",
    "    else:\n",
    "        return 'Вещественных корней нет'"
   ]
  },
  {
   "cell_type": "code",
   "execution_count": null,
   "id": "76107d30",
   "metadata": {
    "id": "76107d30"
   },
   "outputs": [],
   "source": [
    "solve(0.5, 0.125, 0)"
   ]
  },
  {
   "cell_type": "code",
   "execution_count": null,
   "id": "3ff094c1",
   "metadata": {
    "id": "3ff094c1"
   },
   "outputs": [],
   "source": [
    "solve(1, 2, 3)"
   ]
  },
  {
   "cell_type": "code",
   "execution_count": null,
   "id": "4462a943",
   "metadata": {
    "id": "4462a943"
   },
   "outputs": [],
   "source": [
    "z1 = complex(1, 2)\n",
    "z2 = complex(3, 5)\n",
    "z1, z2\n",
    "# (z1, z2)"
   ]
  },
  {
   "cell_type": "code",
   "execution_count": null,
   "id": "df16b06a",
   "metadata": {
    "id": "df16b06a"
   },
   "outputs": [],
   "source": [
    "'z1 = ({}, {})'.format(z1.imag, z2.real)"
   ]
  },
  {
   "cell_type": "code",
   "execution_count": null,
   "id": "4d992b23",
   "metadata": {
    "id": "4d992b23"
   },
   "outputs": [],
   "source": [
    "import cmath\n",
    "\n",
    "def csolve(a, b, c):\n",
    "    d = b**2 - 4*a*c\n",
    "    x1 = (-b + cmath.sqrt(d)) / (2 * a)\n",
    "    x2 = (-b - cmath.sqrt(d)) / (2 * a)\n",
    "    return (x1, x2)"
   ]
  },
  {
   "cell_type": "code",
   "execution_count": null,
   "id": "b71a5e90",
   "metadata": {
    "id": "b71a5e90"
   },
   "outputs": [],
   "source": [
    "csolve(1, 2, 5)"
   ]
  },
  {
   "cell_type": "markdown",
   "id": "3169941b",
   "metadata": {
    "id": "3169941b"
   },
   "source": [
    "## Пример использования Map "
   ]
  },
  {
   "cell_type": "code",
   "execution_count": null,
   "id": "290bf8ce",
   "metadata": {
    "id": "290bf8ce"
   },
   "outputs": [],
   "source": [
    "f = lambda x: x**3\n",
    "list(map(f, range(1, 5)))"
   ]
  },
  {
   "cell_type": "markdown",
   "id": "8c1d6821",
   "metadata": {
    "id": "8c1d6821"
   },
   "source": [
    "##  [PIP](https://pypi.org/)"
   ]
  },
  {
   "cell_type": "code",
   "execution_count": null,
   "id": "b7a7720f",
   "metadata": {
    "id": "b7a7720f"
   },
   "outputs": [],
   "source": [
    "import matplotlib.pyplot as plt"
   ]
  },
  {
   "cell_type": "code",
   "execution_count": null,
   "id": "7ab82d5d",
   "metadata": {
    "id": "7ab82d5d"
   },
   "outputs": [],
   "source": [
    "import random\n",
    "\n",
    "random.randint(1, 10)"
   ]
  },
  {
   "cell_type": "code",
   "execution_count": null,
   "id": "b517635b",
   "metadata": {
    "id": "b517635b"
   },
   "outputs": [],
   "source": [
    "f = lambda x: random.randint(1, 10)\n",
    "points = list(map(f, range(1, 10)))\n",
    "points"
   ]
  },
  {
   "cell_type": "code",
   "execution_count": null,
   "id": "d16f5a4d",
   "metadata": {
    "id": "d16f5a4d"
   },
   "outputs": [],
   "source": [
    "p = plt.plot(points, 'b.') "
   ]
  },
  {
   "cell_type": "code",
   "execution_count": null,
   "id": "81d1bd6a",
   "metadata": {
    "id": "81d1bd6a"
   },
   "outputs": [],
   "source": [
    "plt.plot(points)\n",
    "plt.show()"
   ]
  },
  {
   "cell_type": "code",
   "execution_count": null,
   "id": "98205173",
   "metadata": {
    "id": "98205173"
   },
   "outputs": [],
   "source": [
    "x = list(map(f, range(1, 10)))\n",
    "y = list(map(f, range(1, 10)))\n",
    "print(x)\n",
    "print(y)\n",
    "# ., , , o, v, ^, <\t, >, 1, 2, 3, 4, 8, s, p, P, *, h, H, +, x, X, D, d, |, _, \n",
    "plt.plot(x, y, 'rD')\n",
    "plt.show()"
   ]
  },
  {
   "cell_type": "code",
   "execution_count": null,
   "id": "fa40112a",
   "metadata": {
    "id": "fa40112a"
   },
   "outputs": [],
   "source": [
    "x = list(range(1,200))\n",
    "fx = [i*i for i in x]\n",
    "\n",
    "# https://matplotlib.org/stable/api/_as_gen/matplotlib.pyplot.html?highlight=pyplot#\n",
    "# https://matplotlib.org/stable/api/_as_gen/matplotlib.pyplot.axes.html#matplotlib.pyplot.axes\n",
    "\n",
    "plt.axes(facecolor='white')\n",
    "plt.plot(x,fx)\n",
    "plt.show()"
   ]
  },
  {
   "cell_type": "markdown",
   "id": "aa31617f",
   "metadata": {
    "id": "aa31617f"
   },
   "source": [
    "### Настройки\n",
    "https://matplotlib.org/stable/tutorials/introductory/customizing.html"
   ]
  },
  {
   "cell_type": "code",
   "execution_count": null,
   "id": "3d9a79d3",
   "metadata": {
    "id": "3d9a79d3"
   },
   "outputs": [],
   "source": [
    "import matplotlib.pyplot as plt\n",
    "import matplotlib as mpl\n",
    "\n",
    "x = list(range(-200, 200))\n",
    "fx = [i**2 + 2*i - 3 for i in x]\n",
    "\n",
    "# https://matplotlib.org/stable/api/_as_gen/matplotlib.pyplot.html?highlight=pyplot#\n",
    "# https://matplotlib.org/stable/api/_as_gen/matplotlib.pyplot.axes.html#matplotlib.pyplot.axes\n",
    "\n",
    "mpl.rcParams['lines.linewidth'] = 2\n",
    "mpl.rcParams['lines.linestyle'] = '-.' #'--'\n",
    "mpl.rcParams['lines.color'] = 'C0'\n",
    "\n",
    "plt.axes(facecolor='white')\n",
    "plt.plot(x,fx)\n",
    "plt.show()"
   ]
  },
  {
   "cell_type": "code",
   "execution_count": null,
   "id": "1f27917e",
   "metadata": {
    "id": "1f27917e"
   },
   "outputs": [],
   "source": [
    "import matplotlib.pyplot as plt\n",
    "plt.plot([1,2],[1,-1], 'ro', markerfacecolor = 'red')\n",
    "plt.show()"
   ]
  },
  {
   "cell_type": "code",
   "execution_count": null,
   "id": "d69648d6",
   "metadata": {
    "id": "d69648d6"
   },
   "outputs": [],
   "source": [
    "import numpy as np\n",
    "from math import sqrt\n",
    "import matplotlib.pyplot as plt\n",
    "\n",
    "x = list(range(0, 500, 2))\n",
    "y = list(map(lambda a: sqrt(a),x))\n",
    "\n",
    "fig, ax = plt.subplots()\n",
    "\n",
    "ax.plot(x, y)\n",
    "ax.grid()\n",
    "\n",
    "#  Наименование осей\n",
    "ax.set_xlabel('x')\n",
    "ax.set_ylabel('sqrt(x)')\n",
    "  \n",
    "plt.show()"
   ]
  },
  {
   "cell_type": "code",
   "execution_count": 1,
   "id": "faff25a4",
   "metadata": {
    "id": "faff25a4"
   },
   "outputs": [
    {
     "data": {
      "image/png": "[encoded data removed]",
      "text/plain": [
       "<Figure size 640x480 with 1 Axes>"
      ]
     },
     "metadata": {},
     "output_type": "display_data"
    }
   ],
   "source": [
    "import matplotlib.pyplot as plt\n",
    "import random\n",
    "\n",
    "# random.randint(1, 10)\n",
    "\n",
    "vx = [1.0,2.0,3.0]\n",
    "vy = [1.0,2.0,1.0]\n",
    "\n",
    "sx = vx[0]\n",
    "sy = vy[0]\n",
    "\n",
    "px = []\n",
    "py = []\n",
    "\n",
    "for i in range(1,1000):\n",
    "    r = random.randint(0, 2)\n",
    "    sx = (sx + vx[r]) / 2\n",
    "    sy = (sy + vy[r]) / 2    \n",
    "    px.append(sx)\n",
    "    py.append(sy)\n",
    "  \n",
    "plt.plot(px, py, 'o')\n",
    "plt.show()"
   ]
  },
  {
   "cell_type": "code",
   "execution_count": null,
   "id": "d1502066",
   "metadata": {
    "id": "d1502066"
   },
   "outputs": [],
   "source": [
    "import random\n",
    "import matplotlib.pyplot as plt\n",
    "\n",
    "x = [1.0,2.0,3.0]\n",
    "y = [1.0,2.0,1.0]\n",
    "\n",
    "sx = x[0]\n",
    "sy = y[0]\n",
    "\n",
    "px = []\n",
    "py = []\n",
    "\n",
    "for i in range(1,100000):\n",
    "    r = random.randint(0, 2)\n",
    "    sx = (sx + x[r]) / 2\n",
    "    sy = (sy + y[r]) / 2    \n",
    "    px.append(sx)\n",
    "    py.append(sy)\n",
    "\n",
    "fig, ax = plt.subplots()\n",
    "\n",
    "# маркеры цветов 'b', 'g', 'r', 'c', 'm', 'y', 'k', 'w' , RGB: #00ff00\n",
    "ax.scatter(px, py, c = 'red', s = 1)\n",
    "ax.set_facecolor('black')\n",
    "\n",
    "# ax.grid()\n",
    "# ax.set_xlabel('')\n",
    "# ax.set_ylabel('')\n",
    "fig.set_figwidth(15)\n",
    "fig.set_figheight(10)\n",
    "plt.show()"
   ]
  },
  {
   "cell_type": "markdown",
   "id": "1b7c6895",
   "metadata": {
    "id": "1b7c6895"
   },
   "source": [
    " ![ку-ку](https://static.turbosquid.com/Preview/001207/528/WB/600.jpg \"описание при наведении\")"
   ]
  },
  {
   "cell_type": "code",
   "execution_count": 1,
   "id": "10568739",
   "metadata": {
    "id": "10568739"
   },
   "outputs": [
    {
     "name": "stdout",
     "output_type": "stream",
     "text": [
      "['1: 16%', '2: 16%', '3: 17%', '4: 17%', '5: 17%', '6: 17%']\n"
     ]
    },
    {
     "data": {
      "image/png": "[encoded data removed]",
      "text/plain": [
       "<Figure size 640x480 with 1 Axes>"
      ]
     },
     "metadata": {},
     "output_type": "display_data"
    }
   ],
   "source": [
    "import random\n",
    "import matplotlib.pyplot as plt\n",
    "\n",
    "count = 10000\n",
    "x = list(range(1, 7))\n",
    "y = [0 for i in x]\n",
    "\n",
    "fig, ax = plt.subplots()\n",
    "\n",
    "for _ in range(count):\n",
    "    y[random.randint(0, 5)] += 1\n",
    "\n",
    "ax.bar(x, y)\n",
    "# \n",
    "y.sort()\n",
    "#print('{}%'.format(round((y[5] - y[0]) / count * 100, 3)))\n",
    "stat = [f'{i+1}: {round(y[i] / count * 100)}%' for i in range(0,6)]\n",
    "print(stat)\n",
    "plt.show()"
   ]
  },
  {
   "cell_type": "code",
   "execution_count": null,
   "id": "9892d367",
   "metadata": {
    "id": "9892d367"
   },
   "outputs": [],
   "source": [
    "from sympy import *\n",
    "from sympy.plotting import plot\n",
    "init_printing()"
   ]
  },
  {
   "cell_type": "code",
   "execution_count": null,
   "id": "d5de8ab0",
   "metadata": {
    "id": "d5de8ab0"
   },
   "outputs": [],
   "source": [
    "x = Symbol('x')"
   ]
  },
  {
   "cell_type": "code",
   "execution_count": null,
   "id": "c6c818fd",
   "metadata": {
    "id": "c6c818fd"
   },
   "outputs": [],
   "source": [
    "f = x + 2022\n",
    "f"
   ]
  },
  {
   "cell_type": "code",
   "execution_count": null,
   "id": "fb5c37e1",
   "metadata": {
    "id": "fb5c37e1"
   },
   "outputs": [],
   "source": [
    "f.subs(x, -77)"
   ]
  },
  {
   "cell_type": "code",
   "execution_count": null,
   "id": "e5aa0c4c",
   "metadata": {
    "id": "e5aa0c4c"
   },
   "outputs": [],
   "source": [
    "f.subs(x,-210)"
   ]
  },
  {
   "cell_type": "code",
   "execution_count": null,
   "id": "1804f24a",
   "metadata": {
    "id": "1804f24a"
   },
   "outputs": [],
   "source": [
    "plot(f)\n",
    "print(f)"
   ]
  },
  {
   "cell_type": "code",
   "execution_count": null,
   "id": "78296749",
   "metadata": {
    "id": "78296749"
   },
   "outputs": [],
   "source": [
    "g = sin(x+x)/x\n",
    "plot(g)\n",
    "print(g)"
   ]
  },
  {
   "cell_type": "code",
   "execution_count": null,
   "id": "13e2285c",
   "metadata": {
    "id": "13e2285c"
   },
   "outputs": [],
   "source": [
    "h = x**2\n",
    "h"
   ]
  },
  {
   "cell_type": "code",
   "execution_count": null,
   "id": "9f57c0a8",
   "metadata": {
    "id": "9f57c0a8"
   },
   "outputs": [],
   "source": [
    "plot(h)\n",
    "h"
   ]
  },
  {
   "cell_type": "code",
   "execution_count": null,
   "id": "155989c1",
   "metadata": {
    "id": "155989c1"
   },
   "outputs": [],
   "source": [
    "h=-h"
   ]
  },
  {
   "cell_type": "code",
   "execution_count": null,
   "id": "bc1e0a14",
   "metadata": {
    "id": "bc1e0a14"
   },
   "outputs": [],
   "source": [
    "plot(h)\n",
    "h"
   ]
  },
  {
   "cell_type": "code",
   "execution_count": null,
   "id": "29261e7d",
   "metadata": {
    "id": "29261e7d"
   },
   "outputs": [],
   "source": [
    "a = 1\n",
    "b = 0\n",
    "c = 0\n",
    "h = a*x**2 + b*x+c\n",
    "h"
   ]
  },
  {
   "cell_type": "code",
   "execution_count": null,
   "id": "341c0187",
   "metadata": {
    "id": "341c0187"
   },
   "outputs": [],
   "source": [
    "plot(h)\n",
    "h"
   ]
  },
  {
   "cell_type": "code",
   "execution_count": null,
   "id": "38a17e1f",
   "metadata": {
    "id": "38a17e1f"
   },
   "outputs": [],
   "source": [
    "a = 1\n",
    "b = 3\n",
    "c = 4\n",
    "h = a*x**2 + b*x+c\n",
    "h"
   ]
  },
  {
   "cell_type": "code",
   "execution_count": null,
   "id": "0dbe6015",
   "metadata": {
    "id": "0dbe6015"
   },
   "outputs": [],
   "source": [
    "plot(h)\n",
    "h"
   ]
  },
  {
   "cell_type": "code",
   "execution_count": null,
   "id": "9b10e0fc",
   "metadata": {
    "id": "9b10e0fc"
   },
   "outputs": [],
   "source": [
    "solve(h, x)"
   ]
  },
  {
   "cell_type": "code",
   "execution_count": null,
   "id": "defaa8c3",
   "metadata": {
    "id": "defaa8c3"
   },
   "outputs": [],
   "source": [
    "q = x/(x+2)\n",
    "q"
   ]
  },
  {
   "cell_type": "code",
   "execution_count": null,
   "id": "a26b23c4",
   "metadata": {
    "id": "a26b23c4"
   },
   "outputs": [],
   "source": [
    "plot(q)"
   ]
  },
  {
   "cell_type": "code",
   "execution_count": null,
   "id": "a0f656be",
   "metadata": {
    "id": "a0f656be"
   },
   "outputs": [],
   "source": [
    "fun1 = plot(q,(x,-10,-2.1), show=False)\n",
    "fun2 = plot(q,(x,-1.9,10), show=False)\n",
    "fun1.append(fun2[0])\n",
    "fun1.show()"
   ]
  },
  {
   "cell_type": "code",
   "execution_count": null,
   "id": "29accd86",
   "metadata": {
    "id": "29accd86"
   },
   "outputs": [],
   "source": [
    "x = Symbol('x')\n",
    "y = 1*x**2 + 2*x - 10\n",
    "solve(y)"
   ]
  },
  {
   "cell_type": "code",
   "execution_count": null,
   "id": "0d27d87c",
   "metadata": {
    "id": "0d27d87c"
   },
   "outputs": [],
   "source": [
    "res = plot(y,(x,-5, 5))"
   ]
  }
 ],
 "metadata": {
  "celltoolbar": "Необработанный формат ячейки",
  "colab": {
   "provenance": []
  },
  "kernelspec": {
   "display_name": "Python 3 (ipykernel)",
   "language": "python",
   "name": "python3"
  },
  "language_info": {
   "codemirror_mode": {
    "name": "ipython",
    "version": 3
   },
   "file_extension": ".py",
   "mimetype": "text/x-python",
   "name": "python",
   "nbconvert_exporter": "python",
   "pygments_lexer": "ipython3",
   "version": "3.9.13"
  }
 },
 "nbformat": 4,
 "nbformat_minor": 5
}

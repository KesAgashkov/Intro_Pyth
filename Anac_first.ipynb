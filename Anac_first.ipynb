{
 "cells": [
  {
   "cell_type": "code",
   "execution_count": 3,
   "id": "b5fe3eca",
   "metadata": {},
   "outputs": [],
   "source": [
    "from sympy import Symbol, solveset, solve, diff, plot,sin,cos,  periodicity, pi\n",
    "import matplotlib.pyplot as plt\n",
    "from pprint import pprint\n",
    "import math "
   ]
  },
  {
   "cell_type": "markdown",
   "id": "2f743718",
   "metadata": {},
   "source": [
    "f(x) = (sin(x)/2 + cos(x)/2) ** 2 * sin(x)\n",
    "\n",
    "\n",
    "Определить корни\n",
    "\n",
    "Найти интервалы, на которых функция возрастает\n",
    "\n",
    "Найти интервалы, на которых функция убывает\n",
    "\n",
    "Построить график\n",
    "\n",
    "Вычислить вершину\n",
    "\n",
    "Определить промежутки, на котором f > 0\n",
    "\n",
    "Определить промежутки, на котором f < 0\n"
   ]
  },
  {
   "cell_type": "markdown",
   "id": "8701ab7e",
   "metadata": {},
   "source": [
    "### Функция в красивом виде"
   ]
  },
  {
   "cell_type": "code",
   "execution_count": 4,
   "id": "908648dc",
   "metadata": {},
   "outputs": [
    {
     "data": {
      "text/latex": [
       "$\\displaystyle \\left(\\frac{\\sin{\\left(x \\right)}}{2} + \\frac{\\cos{\\left(x \\right)}}{2}\\right)^{2} \\sin{\\left(x \\right)}$"
      ],
      "text/plain": [
       "(sin(x)/2 + cos(x)/2)**2*sin(x)"
      ]
     },
     "execution_count": 4,
     "metadata": {},
     "output_type": "execute_result"
    }
   ],
   "source": [
    "x = Symbol('x')\n",
    "func = (sin(x)/2 + cos(x)/2) ** 2 * sin(x)\n",
    "func"
   ]
  },
  {
   "cell_type": "markdown",
   "id": "f5ea4fe8",
   "metadata": {},
   "source": [
    "## 1.Определить корни"
   ]
  },
  {
   "cell_type": "code",
   "execution_count": 5,
   "id": "b2cb96de",
   "metadata": {},
   "outputs": [
    {
     "data": {
      "text/latex": [
       "$\\displaystyle \\left\\{2 n \\pi\\; \\middle|\\; n \\in \\mathbb{Z}\\right\\} \\cup \\left\\{2 n \\pi + \\pi\\; \\middle|\\; n \\in \\mathbb{Z}\\right\\} \\cup \\left\\{2 n \\pi + \\frac{3 \\pi}{4}\\; \\middle|\\; n \\in \\mathbb{Z}\\right\\} \\cup \\left\\{2 n \\pi + \\frac{7 \\pi}{4}\\; \\middle|\\; n \\in \\mathbb{Z}\\right\\}$"
      ],
      "text/plain": [
       "Union(ImageSet(Lambda(_n, 2*_n*pi + 3*pi/4), Integers), ImageSet(Lambda(_n, 2*_n*pi + 7*pi/4), Integers), ImageSet(Lambda(_n, 2*_n*pi + pi), Integers), ImageSet(Lambda(_n, 2*_n*pi), Integers))"
      ]
     },
     "execution_count": 5,
     "metadata": {},
     "output_type": "execute_result"
    }
   ],
   "source": [
    "sol = solveset(func,x)\n",
    "sol"
   ]
  },
  {
   "cell_type": "code",
   "execution_count": 6,
   "id": "a0da7ccb",
   "metadata": {},
   "outputs": [
    {
     "name": "stdout",
     "output_type": "stream",
     "text": [
      "[0, -pi/4, 3*pi/4, pi]\n",
      "0\n",
      "-0.785398163397448\n",
      "2.35619449019234\n",
      "3.14159265358979\n"
     ]
    }
   ],
   "source": [
    "k_first = solve(func,x)\n",
    "print(k_first)\n",
    "for i in k_first:\n",
    "    print(i.evalf())\n",
    "\n",
    "    "
   ]
  },
  {
   "cell_type": "markdown",
   "id": "b4cbbfb9",
   "metadata": {},
   "source": [
    "## 2.Найти интервалы, на которых функция возрастает\n",
    "## 3.Найти интервалы, на которых функция убывает\n"
   ]
  },
  {
   "cell_type": "code",
   "execution_count": 7,
   "id": "e8e7d3a3",
   "metadata": {},
   "outputs": [
    {
     "data": {
      "text/latex": [
       "$\\displaystyle \\left(- \\sin{\\left(x \\right)} + \\cos{\\left(x \\right)}\\right) \\left(\\frac{\\sin{\\left(x \\right)}}{2} + \\frac{\\cos{\\left(x \\right)}}{2}\\right) \\sin{\\left(x \\right)} + \\left(\\frac{\\sin{\\left(x \\right)}}{2} + \\frac{\\cos{\\left(x \\right)}}{2}\\right)^{2} \\cos{\\left(x \\right)}$"
      ],
      "text/plain": [
       "(-sin(x) + cos(x))*(sin(x)/2 + cos(x)/2)*sin(x) + (sin(x)/2 + cos(x)/2)**2*cos(x)"
      ]
     },
     "execution_count": 7,
     "metadata": {},
     "output_type": "execute_result"
    }
   ],
   "source": [
    "proisv = diff(func,x)\n",
    "proisv"
   ]
  },
  {
   "cell_type": "code",
   "execution_count": 8,
   "id": "cd576e1c",
   "metadata": {},
   "outputs": [
    {
     "name": "stdout",
     "output_type": "stream",
     "text": [
      "[-pi/4, 3*pi/4, -2*atan(-3/2 + sqrt(6)*sqrt(5 - sqrt(17))/2 + sqrt(17)/2), 2*atan(3/2 + sqrt(17)/2 + sqrt(6)*sqrt(sqrt(17) + 5)/2), 2*atan(-sqrt(17)/2 + sqrt(6)*sqrt(5 - sqrt(17))/2 + 3/2), 2*atan(-sqrt(6)*sqrt(sqrt(17) + 5)/2 + 3/2 + sqrt(17)/2)]\n",
      "-0.785398163397448\n",
      "2.35619449019234\n",
      "-2.08246597090872\n",
      "2.86786413430617\n",
      "1.05912668268107\n",
      "-0.273728519283620\n"
     ]
    }
   ],
   "source": [
    "new = solve(proisv,x)\n",
    "print(new)\n",
    "for i in new:\n",
    "    print(i.evalf())"
   ]
  },
  {
   "cell_type": "markdown",
   "id": "1b18f423",
   "metadata": {},
   "source": [
    "## 4.Построить график\n",
    "\n"
   ]
  },
  {
   "cell_type": "code",
   "execution_count": 9,
   "id": "f6983dcc",
   "metadata": {},
   "outputs": [
    {
     "data": {
      "image/png": "[encoded data removed]",
      "text/plain": [
       "<Figure size 640x480 with 1 Axes>"
      ]
     },
     "metadata": {},
     "output_type": "display_data"
    }
   ],
   "source": [
    "gr = plot(func,proisv,(x,-pi/4,2*pi), title = 'График  функции и производной')"
   ]
  },
  {
   "cell_type": "markdown",
   "id": "39eb256c",
   "metadata": {},
   "source": [
    "## 5. Вычислить вершину функции"
   ]
  },
  {
   "cell_type": "code",
   "execution_count": 10,
   "id": "42ebd8f5",
   "metadata": {},
   "outputs": [
    {
     "name": "stdout",
     "output_type": "stream",
     "text": [
      "x = -pi/4\n",
      "y = 0\n",
      "\n",
      "x = -0.785398163397448\n",
      "x = 0\n",
      "\n",
      "\n",
      "x = 3*pi/4\n",
      "y = 0\n",
      "\n",
      "x = 2.35619449019234\n",
      "x = 0\n",
      "\n",
      "\n",
      "x = -2*atan(-3/2 + sqrt(6)*sqrt(5 - sqrt(17))/2 + sqrt(17)/2)\n",
      "y = -(-sin(2*atan(-3/2 + sqrt(6)*sqrt(5 - sqrt(17))/2 + sqrt(17)/2))/2 + cos(2*atan(-3/2 + sqrt(6)*sqrt(5 - sqrt(17))/2 + sqrt(17)/2))/2)**2*sin(2*atan(-3/2 + sqrt(6)*sqrt(5 - sqrt(17))/2 + sqrt(17)/2))\n",
      "\n",
      "x = -2.08246597090872\n",
      "x = -0.404106232073136\n",
      "\n",
      "\n",
      "x = 2*atan(3/2 + sqrt(17)/2 + sqrt(6)*sqrt(sqrt(17) + 5)/2)\n",
      "y = (cos(2*atan(3/2 + sqrt(17)/2 + sqrt(6)*sqrt(sqrt(17) + 5)/2))/2 + sin(2*atan(3/2 + sqrt(17)/2 + sqrt(6)*sqrt(sqrt(17) + 5)/2))/2)**2*sin(2*atan(3/2 + sqrt(17)/2 + sqrt(6)*sqrt(sqrt(17) + 5)/2))\n",
      "\n",
      "x = 2.86786413430617\n",
      "x = 0.0324037814383501\n",
      "\n",
      "\n",
      "x = 2*atan(-sqrt(17)/2 + sqrt(6)*sqrt(5 - sqrt(17))/2 + 3/2)\n",
      "y = (cos(2*atan(-sqrt(17)/2 + sqrt(6)*sqrt(5 - sqrt(17))/2 + 3/2))/2 + sin(2*atan(-sqrt(17)/2 + sqrt(6)*sqrt(5 - sqrt(17))/2 + 3/2))/2)**2*sin(2*atan(-sqrt(17)/2 + sqrt(6)*sqrt(5 - sqrt(17))/2 + 3/2))\n",
      "\n",
      "x = 1.05912668268107\n",
      "x = 0.404106232073136\n",
      "\n",
      "\n",
      "x = 2*atan(-sqrt(6)*sqrt(sqrt(17) + 5)/2 + 3/2 + sqrt(17)/2)\n",
      "y = (sin(2*atan(-sqrt(6)*sqrt(sqrt(17) + 5)/2 + 3/2 + sqrt(17)/2))/2 + cos(2*atan(-sqrt(6)*sqrt(sqrt(17) + 5)/2 + 3/2 + sqrt(17)/2))/2)**2*sin(2*atan(-sqrt(6)*sqrt(sqrt(17) + 5)/2 + 3/2 + sqrt(17)/2))\n",
      "\n",
      "x = -0.273728519283620\n",
      "x = -0.0324037814383501\n",
      "\n",
      "\n"
     ]
    }
   ],
   "source": [
    "for x in new:\n",
    "    y = (sin(x)/2 + cos(x)/2) ** 2 * sin(x)\n",
    "    print(f'x = {x}')\n",
    "    print(f'y = {y}')\n",
    "    print()\n",
    "    print(f'x = {x.evalf()}')\n",
    "    print(f'x = {y.evalf()}')\n",
    "    print()\n",
    "    print()\n",
    "    \n",
    "    "
   ]
  },
  {
   "cell_type": "markdown",
   "id": "50d40b71",
   "metadata": {},
   "source": [
    "## 6. Определить промежутки, на котором f > 0\n",
    "\n"
   ]
  },
  {
   "cell_type": "code",
   "execution_count": 13,
   "id": "4450bcac",
   "metadata": {},
   "outputs": [
    {
     "name": "stdout",
     "output_type": "stream",
     "text": [
      "(x > 0) & (x < pi) & Ne(x, 3*pi/4)\n"
     ]
    }
   ],
   "source": [
    "pprint(solve(func > 0, x))"
   ]
  },
  {
   "cell_type": "markdown",
   "id": "2aa440dc",
   "metadata": {},
   "source": [
    "## 7. Определить промежутки, на котором f < 0"
   ]
  },
  {
   "cell_type": "code",
   "execution_count": 14,
   "id": "98d889d5",
   "metadata": {},
   "outputs": [
    {
     "name": "stdout",
     "output_type": "stream",
     "text": [
      "(x > pi) & (x < 2*pi) & Ne(x, 7*pi/4)\n"
     ]
    }
   ],
   "source": [
    "pprint(solve(func < 0, x))"
   ]
  },
  {
   "cell_type": "code",
   "execution_count": null,
   "id": "1799935f",
   "metadata": {},
   "outputs": [],
   "source": []
  }
 ],
 "metadata": {
  "kernelspec": {
   "display_name": "Python 3 (ipykernel)",
   "language": "python",
   "name": "python3"
  },
  "language_info": {
   "codemirror_mode": {
    "name": "ipython",
    "version": 3
   },
   "file_extension": ".py",
   "mimetype": "text/x-python",
   "name": "python",
   "nbconvert_exporter": "python",
   "pygments_lexer": "ipython3",
   "version": "3.9.13"
  }
 },
 "nbformat": 4,
 "nbformat_minor": 5
}
